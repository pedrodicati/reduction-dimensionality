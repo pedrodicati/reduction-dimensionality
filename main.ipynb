{
 "cells": [
  {
   "attachments": {},
   "cell_type": "markdown",
   "metadata": {},
   "source": [
    "# Trabalho Big Data - Dimensionalidade 👌\n",
    "\n",
    "## Bibliotecas"
   ]
  },
  {
   "cell_type": "code",
   "execution_count": 76,
   "metadata": {},
   "outputs": [],
   "source": [
    "import pandas as pd\n",
    "\n",
    "from sklearn.model_selection import train_test_split\n",
    "from sklearn.preprocessing import StandardScaler\n",
    "\n",
    "from sklearn.linear_model import LogisticRegression\n",
    "from sklearn.metrics import accuracy_score"
   ]
  },
  {
   "attachments": {},
   "cell_type": "markdown",
   "metadata": {},
   "source": [
    "## Importando os dados"
   ]
  },
  {
   "cell_type": "code",
   "execution_count": 59,
   "metadata": {},
   "outputs": [
    {
     "data": {
      "text/plain": [
       "(569, 31)"
      ]
     },
     "execution_count": 59,
     "metadata": {},
     "output_type": "execute_result"
    }
   ],
   "source": [
    "data = pd.read_csv('Cancer_Data.csv')\n",
    "data = data.drop(['id', 'Unnamed: 32'], axis=1)\n",
    "data.shape"
   ]
  },
  {
   "attachments": {},
   "cell_type": "markdown",
   "metadata": {},
   "source": [
    "## Tratando outliers"
   ]
  },
  {
   "cell_type": "code",
   "execution_count": 82,
   "metadata": {},
   "outputs": [
    {
     "data": {
      "text/plain": [
       "(277, 31)"
      ]
     },
     "execution_count": 82,
     "metadata": {},
     "output_type": "execute_result"
    }
   ],
   "source": [
    "data_t = data.copy()\n",
    "colunms = data_t.columns.drop(['diagnosis'])\n",
    "\n",
    "for col in colunms:\n",
    "    Q3 = data_t[col].quantile(0.75)\n",
    "    Q1 = data_t[col].quantile(0.25)\n",
    "\n",
    "    IQR = Q3 - Q1\n",
    "\n",
    "    data_t = data_t[(data_t[col] >= Q1 - 1.5*IQR) & (data_t[col] <= Q3 + 1.5*IQR)]\n",
    "\n",
    "data_t.replace({'M': 1, 'B': 0}, inplace=True)\n",
    "\n",
    "data_t = pd.DataFrame(data_t, columns=data.columns)\n",
    "data_t.shape"
   ]
  },
  {
   "attachments": {},
   "cell_type": "markdown",
   "metadata": {},
   "source": [
    "## Modelo de classificação usando o dataset inteiro, sem redução de dimensionalidade"
   ]
  },
  {
   "cell_type": "code",
   "execution_count": 86,
   "metadata": {},
   "outputs": [
    {
     "data": {
      "text/plain": [
       "'O modelo sem a redução de dimensionalidade teve uma acurácia de 95.71%'"
      ]
     },
     "execution_count": 86,
     "metadata": {},
     "output_type": "execute_result"
    }
   ],
   "source": [
    "X = data_t.drop(['diagnosis'], axis=1)\n",
    "y = data_t['diagnosis']\n",
    "\n",
    "X = StandardScaler().fit_transform(X)\n",
    "\n",
    "X_train, X_test, y_train, y_test = train_test_split(X, y, random_state=50)\n",
    "\n",
    "model_1 = LogisticRegression()\n",
    "model_1.fit(X_train, y_train)\n",
    "\n",
    "y_pred = model_1.predict(X_test)\n",
    "\n",
    "acc = accuracy_score(y_test, y_pred)\n",
    "\n",
    "f\"O modelo sem a redução de dimensionalidade teve uma acurácia de {acc:.2%}\""
   ]
  },
  {
   "attachments": {},
   "cell_type": "markdown",
   "metadata": {},
   "source": [
    "## Redução da dimensionalidade e modelo de classificação\n",
    "\n",
    "Aqui utilizamos três métodos de dimensionalidade, comparando cada um deles e utilizando o mesmo modelo de classificação.\n",
    "\n",
    "1. SelectKBest"
   ]
  },
  {
   "cell_type": "code",
   "execution_count": 88,
   "metadata": {},
   "outputs": [],
   "source": [
    "from sklearn.feature_selection import SelectKBest, f_classif\n",
    "\n",
    "data_KB = data_t.copy()\n",
    "\n",
    "X = data_t.drop(['diagnosis'], axis=1)\n",
    "y = data_t['diagnosis']\n",
    "\n",
    "selector = SelectKBest(f_classif, k=15)\n",
    "X_new = selector.fit_transform(X, y)\n",
    "\n",
    "selected_columns = X.columns[selector.get_support()]\n",
    "\n",
    "selected_features = pd.DataFrame(X_new, columns=selected_columns)"
   ]
  },
  {
   "cell_type": "code",
   "execution_count": 89,
   "metadata": {},
   "outputs": [
    {
     "data": {
      "text/plain": [
       "((277, 15), (277,))"
      ]
     },
     "execution_count": 89,
     "metadata": {},
     "output_type": "execute_result"
    }
   ],
   "source": [
    "X = selected_features\n",
    "X.shape, y.shape"
   ]
  },
  {
   "cell_type": "code",
   "execution_count": 90,
   "metadata": {},
   "outputs": [],
   "source": [
    "X = StandardScaler().fit_transform(X)\n",
    "\n",
    "X_train, X_test, y_train, y_test = train_test_split(X, y, random_state=50)"
   ]
  },
  {
   "cell_type": "code",
   "execution_count": 91,
   "metadata": {},
   "outputs": [
    {
     "data": {
      "text/plain": [
       "'O modelo, com a redução da dimensionalidade dos dados, teve uma acurácia de 98.57%'"
      ]
     },
     "execution_count": 91,
     "metadata": {},
     "output_type": "execute_result"
    }
   ],
   "source": [
    "model = LogisticRegression()\n",
    "\n",
    "model.fit(X_train, y_train)\n",
    "y_pred = model.predict(X_test)\n",
    "\n",
    "acc = accuracy_score(y_test, y_pred)\n",
    "f\"O modelo, com a redução da dimensionalidade dos dados, teve uma acurácia de {acc:.2%}\""
   ]
  },
  {
   "attachments": {},
   "cell_type": "markdown",
   "metadata": {},
   "source": [
    "2. "
   ]
  },
  {
   "cell_type": "code",
   "execution_count": null,
   "metadata": {},
   "outputs": [],
   "source": []
  }
 ],
 "metadata": {
  "kernelspec": {
   "display_name": "Python 3",
   "language": "python",
   "name": "python3"
  },
  "language_info": {
   "codemirror_mode": {
    "name": "ipython",
    "version": 3
   },
   "file_extension": ".py",
   "mimetype": "text/x-python",
   "name": "python",
   "nbconvert_exporter": "python",
   "pygments_lexer": "ipython3",
   "version": "3.11.3"
  },
  "orig_nbformat": 4
 },
 "nbformat": 4,
 "nbformat_minor": 2
}
